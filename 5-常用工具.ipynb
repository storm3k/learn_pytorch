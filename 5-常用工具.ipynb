{
 "cells": [
  {
   "cell_type": "markdown",
   "metadata": {},
   "source": [
    "## 5.1 数据处理"
   ]
  },
  {
   "cell_type": "markdown",
   "metadata": {},
   "source": [
    "在PyTorch中，数据加载可通过自定义的数据集对象。\n",
    "\n",
    "数据集对象被抽象为`Dataset类`，实现自定义的数据集需要继承Dataset，并实现两个Python魔法方法：\n",
    "\n",
    "* `__getitem__`：返回一条数据，或一个样本。`obj[index]`等价于`obj.__getitem__(index)`\n",
    "* `__len__`：返回样本的数量。`len(obj)`等价于`obj.__len__()`"
   ]
  },
  {
   "cell_type": "code",
   "execution_count": 6,
   "metadata": {},
   "outputs": [
    {
     "name": "stdout",
     "output_type": "stream",
     "text": [
      "env: LS_COLORS=None\n",
      "data/dogcat/\r\n",
      "|-- cat.0.jpg\r\n",
      "|-- cat.1.jpg\r\n",
      "|-- cat.2.jpg\r\n",
      "|-- cat.3.jpg\r\n",
      "|-- cat.4.jpg\r\n",
      "|-- dog.0.jpg\r\n",
      "|-- dog.1.jpg\r\n",
      "|-- dog.2.jpg\r\n",
      "|-- dog.3.jpg\r\n",
      "`-- dog.4.jpg\r\n",
      "\r\n",
      "0 directories, 10 files\r\n"
     ]
    }
   ],
   "source": [
    "%env LS_COLORS=None\n",
    "!tree --charset ascii  data/dogcat/"
   ]
  },
  {
   "cell_type": "code",
   "execution_count": 7,
   "metadata": {},
   "outputs": [],
   "source": [
    "import torch as t\n",
    "from torch.utils import data"
   ]
  },
  {
   "cell_type": "code",
   "execution_count": 11,
   "metadata": {},
   "outputs": [],
   "source": [
    "import os\n",
    "from PIL import Image\n",
    "import numpy as np\n",
    "\n",
    "class DogCat(data.Dataset):\n",
    "    def __init__(self, root):\n",
    "        imgs = os.listdir(root)\n",
    "        # 所有图片的绝对路径\n",
    "        # 这里不实际加载图片，只是指定路径，当调用__getitem__时才会真正读图片\n",
    "        self.imgs = [os.path.join(root, img) for img in imgs]\n",
    "    \n",
    "    def __getitem__(self, index):\n",
    "        img_path = self.imgs[index]\n",
    "        \n",
    "        # label\n",
    "        # dog->1， cat->0\n",
    "        label = 1 if 'dog' in img_path.split('/')[-1] else 0\n",
    "        \n",
    "        # data\n",
    "        pil_img = Image.open(img_path)\n",
    "        array = np.asarray(pil_img)\n",
    "        data = t.from_numpy(array)\n",
    "        \n",
    "        return data, label\n",
    "    \n",
    "    def __len__(self):\n",
    "        return len(self.imgs)"
   ]
  },
  {
   "cell_type": "code",
   "execution_count": 12,
   "metadata": {},
   "outputs": [
    {
     "name": "stdout",
     "output_type": "stream",
     "text": [
      "torch.Size([499, 327, 3]) tensor(133.5602) 1\n",
      "torch.Size([375, 499, 3]) tensor(116.7904) 1\n",
      "torch.Size([280, 300, 3]) tensor(71.6653) 0\n",
      "torch.Size([375, 499, 3]) tensor(129.4572) 1\n",
      "torch.Size([287, 300, 3]) tensor(117.9481) 1\n",
      "torch.Size([414, 500, 3]) tensor(156.6921) 0\n",
      "torch.Size([374, 500, 3]) tensor(119.7826) 0\n",
      "torch.Size([199, 187, 3]) tensor(143.0630) 1\n",
      "torch.Size([375, 499, 3]) tensor(96.8243) 0\n",
      "torch.Size([396, 312, 3]) tensor(131.8400) 0\n"
     ]
    }
   ],
   "source": [
    "dataset = DogCat('./data/dogcat/')\n",
    "img, label = dataset[0]  # 相当于调用dataset.__getitem__(0)\n",
    "for img, label in dataset:\n",
    "    print(img.size(), img.float().mean(), label)"
   ]
  },
  {
   "cell_type": "markdown",
   "metadata": {},
   "source": [
    "问题：\n",
    "\n",
    "* 返回样本的**形状不一**，因每张图片的大小不一样，这对于需要取batch训练的神经网络来说很不友好\n",
    "* 返回样本的**数值较大**，**未归一化**至[-1, 1]"
   ]
  },
  {
   "cell_type": "markdown",
   "metadata": {},
   "source": [
    "PyTorch提供了`torchvision`。它是一个视觉工具包，提供了很多视觉图像处理的工具，\n",
    "\n",
    "其中`transforms`模块提供了对PIL Image对象和Tensor对象的常用操作。\n",
    "\n",
    "对PIL Image的操作包括：\n",
    "* Scale：调整图片尺寸，长宽比保持不变\n",
    "* CenterCrop、RandomCrop、RandomResizedCrop： 裁剪图片\n",
    "* Pad：填充\n",
    "* ToTensor：将PIL Image对象转成Tensor，会自动将[0, 255]归一化至[0, 1]\n",
    "\n",
    "对Tensor的操作包括：\n",
    "* Normalize：标准化，即减均值，除以标准差\n",
    "* ToPILImage：将Tensor转为PIL Image对象\n",
    "\n",
    "如果要对图片进行多个操作，可通过`Compose`函数将这些操作拼接起来，类似于`nn.Sequential`。注意，这些操作定义后是以函数的形式存在，真正使用时需调用它的`__call__`方法，这点类似于`nn.Module`。例如要将图片调整为$224\\times 224$，首先应构建这个操作`trans = Resize((224, 224))`，然后调用`trans(img)`。\n"
   ]
  },
  {
   "cell_type": "code",
   "execution_count": 17,
   "metadata": {},
   "outputs": [
    {
     "name": "stdout",
     "output_type": "stream",
     "text": [
      "torch.Size([3, 224, 224]) 1 tensor(0.0039)\n",
      "torch.Size([3, 224, 224]) 1 tensor(-0.0913)\n",
      "torch.Size([3, 224, 224]) 0 tensor(-0.4285)\n",
      "torch.Size([3, 224, 224]) 1 tensor(-0.0277)\n",
      "torch.Size([3, 224, 224]) 1 tensor(-0.0745)\n",
      "torch.Size([3, 224, 224]) 0 tensor(0.2118)\n",
      "torch.Size([3, 224, 224]) 0 tensor(-0.0871)\n",
      "torch.Size([3, 224, 224]) 1 tensor(0.1098)\n",
      "torch.Size([3, 224, 224]) 0 tensor(-0.2911)\n",
      "torch.Size([3, 224, 224]) 0 tensor(0.0849)\n"
     ]
    }
   ],
   "source": [
    "import os\n",
    "from PIL import Image\n",
    "import numpy as np\n",
    "from torchvision import transforms as T\n",
    "\n",
    "transform = T.Compose([\n",
    "    T.Resize(224),  # 缩放图片(Image)，保持长宽比不变，最短边为224像素\n",
    "    T.CenterCrop(224),  # 从图片中间切出224*224的图片\n",
    "    T.ToTensor(),  # 将图片(Image)转成Tensor，归一化至[0, 1]\n",
    "    T.Normalize(mean=[.5, .5, .5], std=[.5, .5, .5])  # 标准化至[-1, 1]，规定均值和标准差\n",
    "])\n",
    "\n",
    "class DogCat(data.Dataset):\n",
    "    def __init__(self, root, transforms=None):\n",
    "        imgs = os.listdir(root)\n",
    "        self.imgs = [os.path.join(root, img) for img in imgs]\n",
    "        self.transforms = transforms\n",
    "        \n",
    "    def __getitem__(self, index):\n",
    "        img_path = self.imgs[index]\n",
    "        label = 1 if 'dog' in img_path.split('/')[-1] else 0\n",
    "        data = Image.open(img_path)\n",
    "        if self.transforms:\n",
    "            data = self.transforms(data)\n",
    "        return data, label\n",
    "\n",
    "    def __len__(self):\n",
    "        return len(self.imgs)\n",
    "    \n",
    "dataset = DogCat('./data/dogcat/', transforms=transform)\n",
    "img, label = dataset[0]\n",
    "for img, label in dataset:\n",
    "    print(img.size(), label, img.float().mean())"
   ]
  },
  {
   "cell_type": "markdown",
   "metadata": {},
   "source": [
    "除了上述操作之外，`transforms`还可通过`Lambda`封装自定义的转换策略。例如想对`PIL Image`进行**随机旋转**，则可写成这样`trans=T.Lambda(lambda img: img.rotate(random()*360))`。"
   ]
  },
  {
   "cell_type": "markdown",
   "metadata": {},
   "source": [
    "`torchvision`已经预先实现了常用的Dataset，包括CIFAR-10，以及ImageNet、COCO、MNIST、LSUN等数据集"
   ]
  },
  {
   "cell_type": "markdown",
   "metadata": {},
   "source": [
    "`Dataset`——`ImageFolder`，它的实现和上述的DogCat很相似。`ImageFolder`假设**所有的文件按文件夹保存**，**每个文件夹**下存储**同一个类别的图片**，文件夹名为**类名**，其构造函数如下：\n",
    "\n",
    "```python\n",
    "ImageFolder(root, transform=None, target_transform=None, loader=default_loader)\n",
    "```\n",
    "它主要有四个参数：\n",
    "\n",
    "* root：在root指定的路径下寻找图片\n",
    "* transform：对PIL Image进行的转换操作，transform的输入是使用loader读取图片的返回对象\n",
    "* target_transform：对label的转换\n",
    "* loader：给定路径后如何读取图片，默认读取为RGB格式的PIL Image对象\n",
    "\n",
    "`label`是按照文件夹名顺序排序后存成**字典**，即`{类名:类序号(从0开始)}`，一般来说最好直接将文件夹命名为从0开始的数字，这样会和ImageFolder实际的label一致，如果不是这种命名规范，建议看看`self.class_to_idx`属性以了解label和文件夹名的映射关系。"
   ]
  },
  {
   "cell_type": "code",
   "execution_count": 18,
   "metadata": {},
   "outputs": [
    {
     "name": "stdout",
     "output_type": "stream",
     "text": [
      "data/dogcat_2/\r\n",
      "|-- cat\r\n",
      "|   |-- cat.5.jpg\r\n",
      "|   |-- cat.6.jpg\r\n",
      "|   |-- cat.7.jpg\r\n",
      "|   `-- cat.8.jpg\r\n",
      "`-- dog\r\n",
      "    |-- dog.5.jpg\r\n",
      "    |-- dog.6.jpg\r\n",
      "    |-- dog.7.jpg\r\n",
      "    `-- dog.8.jpg\r\n",
      "\r\n",
      "2 directories, 8 files\r\n"
     ]
    }
   ],
   "source": [
    "!tree --charset ASCII  data/dogcat_2/"
   ]
  },
  {
   "cell_type": "code",
   "execution_count": 19,
   "metadata": {},
   "outputs": [],
   "source": [
    "from torchvision.datasets import ImageFolder\n",
    "dataset = ImageFolder('data/dogcat_2/')"
   ]
  },
  {
   "cell_type": "code",
   "execution_count": 20,
   "metadata": {},
   "outputs": [
    {
     "data": {
      "text/plain": [
       "{'cat': 0, 'dog': 1}"
      ]
     },
     "execution_count": 20,
     "metadata": {},
     "output_type": "execute_result"
    }
   ],
   "source": [
    "# cat文件夹的图片对应label 0，dog对应1\n",
    "dataset.class_to_idx"
   ]
  },
  {
   "cell_type": "code",
   "execution_count": 21,
   "metadata": {
    "scrolled": true
   },
   "outputs": [
    {
     "data": {
      "text/plain": [
       "[('data/dogcat_2/cat/cat.5.jpg', 0),\n",
       " ('data/dogcat_2/cat/cat.6.jpg', 0),\n",
       " ('data/dogcat_2/cat/cat.7.jpg', 0),\n",
       " ('data/dogcat_2/cat/cat.8.jpg', 0),\n",
       " ('data/dogcat_2/dog/dog.5.jpg', 1),\n",
       " ('data/dogcat_2/dog/dog.6.jpg', 1),\n",
       " ('data/dogcat_2/dog/dog.7.jpg', 1),\n",
       " ('data/dogcat_2/dog/dog.8.jpg', 1)]"
      ]
     },
     "execution_count": 21,
     "metadata": {},
     "output_type": "execute_result"
    }
   ],
   "source": [
    "# 所有图片的路径和对应的label\n",
    "dataset.imgs"
   ]
  },
  {
   "cell_type": "code",
   "execution_count": 25,
   "metadata": {},
   "outputs": [
    {
     "name": "stdout",
     "output_type": "stream",
     "text": [
      "0\n"
     ]
    },
    {
     "data": {
      "image/png": "[encoded data removed]",
      "text/plain": [
       "<PIL.Image.Image image mode=RGB size=175x144 at 0x7FD3D7BD1320>"
      ]
     },
     "execution_count": 25,
     "metadata": {},
     "output_type": "execute_result"
    }
   ],
   "source": [
    "# 没有任何的transform，所以返回的还是PIL Image对象\n",
    "print(dataset[0][1]) # 第一维是第几张图，第二维为1返回label\n",
    "dataset[0][0] # 为0返回图片数据"
   ]
  },
  {
   "cell_type": "code",
   "execution_count": 26,
   "metadata": {},
   "outputs": [],
   "source": [
    "# 加上transform\n",
    "normalize = T.Normalize(mean=[0.4, 0.4, 0.4], std=[0.2, 0.2, 0.2])\n",
    "transform = T.Compose([\n",
    "    T.RandomResizedCrop(224),\n",
    "    T.RandomHorizontalFlip(),\n",
    "    T.ToTensor(),\n",
    "    normalize,\n",
    "])"
   ]
  },
  {
   "cell_type": "code",
   "execution_count": 27,
   "metadata": {},
   "outputs": [],
   "source": [
    "dataset = ImageFolder('data/dogcat_2/', transform=transform)"
   ]
  },
  {
   "cell_type": "code",
   "execution_count": 29,
   "metadata": {},
   "outputs": [
    {
     "data": {
      "text/plain": [
       "torch.Size([3, 224, 224])"
      ]
     },
     "execution_count": 29,
     "metadata": {},
     "output_type": "execute_result"
    }
   ],
   "source": [
    "# 深度学习中图片数据一般保存成 CxHxW，即 通道数 x 图片高 x 图片宽\n",
    "dataset[0][0].size()"
   ]
  },
  {
   "cell_type": "code",
   "execution_count": 30,
   "metadata": {},
   "outputs": [
    {
     "data": {
      "image/png": "[encoded data removed]",
      "text/plain": [
       "<PIL.Image.Image image mode=RGB size=224x224 at 0x7FD3D7C9A278>"
      ]
     },
     "execution_count": 30,
     "metadata": {},
     "output_type": "execute_result"
    }
   ],
   "source": [
    "to_img = T.ToPILImage()\n",
    "# 0.2和0.4是标准差和均值的近似\n",
    "to_img(dataset[0][0]*0.2+0.4)"
   ]
  },
  {
   "cell_type": "markdown",
   "metadata": {},
   "source": [
    "`Dataset`只负责数据的抽象，一次调用`__getitem__`只返回**一个**样本。前面提到过，在训练神经网络时，最好是对一个batch的数据进行操作，同时还需要对数据进行**shuffle**和**并行加速**等。对此，PyTorch提供了`DataLoader`帮助我们实现这些功能。\n",
    "\n",
    "DataLoader的函数定义如下：  \n",
    "```python\n",
    "DataLoader(dataset, batch_size=1, shuffle=False, sampler=None, num_workers=0, \n",
    "collate_fn=default_collate, pin_memory=False, drop_last=False)\n",
    "```\n",
    "\n",
    "* dataset：加载的数据集(Dataset对象)\n",
    "* batch_size：batch size\n",
    "* shuffle:：是否将数据打乱\n",
    "* sampler： 样本抽样\n",
    "* num_workers：使用多进程加载的进程数，0代表不使用多进程\n",
    "* collate_fn： 如何将多个样本数据拼接成一个batch，一般使用默认的拼接方式即可\n",
    "* pin_memory：是否将数据保存在pin memory区，pin memory中的数据转到GPU会快一些\n",
    "* drop_last：dataset中的数据个数可能不是batch_size的整数倍，drop_last为True会将多出来不足一个batch的数据丢弃"
   ]
  },
  {
   "cell_type": "code",
   "execution_count": 32,
   "metadata": {},
   "outputs": [],
   "source": [
    "from torch.utils.data import DataLoader"
   ]
  },
  {
   "cell_type": "code",
   "execution_count": 33,
   "metadata": {},
   "outputs": [],
   "source": [
    "dataloader = DataLoader(dataset, batch_size=3, shuffle=True, num_workers=0, drop_last=False)"
   ]
  },
  {
   "cell_type": "code",
   "execution_count": 34,
   "metadata": {},
   "outputs": [
    {
     "data": {
      "text/plain": [
       "torch.Size([3, 3, 224, 224])"
      ]
     },
     "execution_count": 34,
     "metadata": {},
     "output_type": "execute_result"
    }
   ],
   "source": [
    "# iter() 函数用来生成迭代器。\n",
    "dataiter = iter(dataloader)\n",
    "imgs, labels = next(dataiter)\n",
    "imgs.size()  # batch_size, channel, height, weight"
   ]
  },
  {
   "cell_type": "markdown",
   "metadata": {},
   "source": [
    "在数据处理中，有时会出现某个**样本无法读取**等问题，比如某张图片损坏。这时在`__getitem__`函数中将**出现异常**，此时最好的解决方案即是将出错的样本剔除。如果实在是遇到这种情况无法处理，则可以返回None对象，然后在`Dataloader`中实现**自定义**的`collate_fn`，将空对象过滤掉。但要注意，在这种情况下dataloader返回的batch**数目会少于batch_size。**"
   ]
  },
  {
   "cell_type": "code",
   "execution_count": 35,
   "metadata": {},
   "outputs": [],
   "source": [
    "class NewDogCat(DogCat):  # 继承前面实现的DogCat数据集\n",
    "    def __getitem__(self, index):\n",
    "        try:\n",
    "            # 调用父类的获取函数，即 DogCat.__getitem__(self, index)\n",
    "            return super(NewDogCat, self).__getitem__(index)\n",
    "        except:\n",
    "            return None, None\n",
    "\n",
    "from torch.utils.data.dataloader import default_collate  # 导入默认的拼接方式\n",
    "def my_collate_fn(batch):\n",
    "    \"\"\"\n",
    "    batch中每个元素形如(data, label)\n",
    "    \"\"\"\n",
    "    # 过滤为None的数据\n",
    "    batch = list(filter(lambda x:x[0] is None, batch))\n",
    "    if len(batch) == 0: return t.Tensor()\n",
    "    return default_collate(batch)  # 用默认方式拼接过滤后的batch数据"
   ]
  },
  {
   "cell_type": "markdown",
   "metadata": {},
   "source": [
    "对于诸如样本损坏或数据集加载异常等情况，还可以通过其它方式解决。例如但凡遇到异常情况，就随机取一张图片代替：\n",
    "\n",
    "```python\n",
    "class NewDogCat(DogCat):\n",
    "    def __getitem__(self, index):\n",
    "        try:\n",
    "            return super(NewDogCat, self).__getitem__(index)\n",
    "        except:\n",
    "            new_index = random.randint(0, len(self)-1)\n",
    "            return self[new_index]\n",
    "```\n",
    "\n",
    "相比较丢弃异常图片而言，这种做法会更好一些，因为它能保证每个batch的数目仍是batch_size。\n",
    "\n",
    "但在大多数情况下，最好的方式还是对数据进行**彻底清洗**。"
   ]
  },
  {
   "cell_type": "markdown",
   "metadata": {},
   "source": [
    "`DataLoader`里面并没有太多的魔法方法，它封装了Python的标准库`multiprocessing`，使其能够实现多进程加速。在此提几点关于Dataset和DataLoader使用方面的建议：\n",
    "\n",
    "高负载的操作放在`__getitem__`中，如**加载图片**等。\n",
    "dataset中应尽量只包含**只读对象**，避免修改任何可变对象，利用多线程进行操作。\n",
    "\n",
    "第一点是因为多进程会**并行的调用**`__getitem__`函数，将负载高的放在`__getitem__`函数中能够实现并行加速。 \n",
    "\n",
    "第二点是因为dataloader使用多进程加载，如果在Dataset实现中使用了**可变对象**，可能会有**意想不到的冲突**。在多线程/多进程中，修改一个可变对象，需要加锁，但是`dataloader`的设计使得其**很难加锁**（在实际使用中也应尽量避免锁的存在），因此最好避免在dataset中修改可变对象。例如下面就是一个不好的例子，在多进程处理中`self.num`可能与预期不符，这种问题不会报错，因此难以发现。如果一定要修改可变对象，建议使用Python标准库Queue中的相关数据结构。\n",
    "\n",
    "```python\n",
    "class BadDataset(Dataset):\n",
    "    def __init__(self):\n",
    "        self.datas = range(100)\n",
    "        self.num = 0 # 取数据的次数\n",
    "    def __getitem__(self, index):\n",
    "        self.num += 1\n",
    "        return self.datas[index]\n",
    "```\n",
    "\n",
    "使用`Python multiprocessing`库的另一个问题是，在使用多进程时，如果主程序异常终止（比如用`Ctrl+C`强行退出），相应的数据加载进程可能无法正常退出。这时你可能会发现程序已经退出了，但GPU显存和内存依旧被占用着，或通过top、ps aux依旧能够看到已经退出的程序，这时就需要手动强行杀掉进程。建议使用如下命令：\n",
    "\n",
    "`ps x | grep <cmdline> | awk '{print $1}' | xargs kill`\n",
    "* ps x：获取当前用户的所有进程\n",
    "* grep <cmdline>：找到已经停止的PyTorch程序的进程，例如你是通过python train.py启动的，那你就需要写grep 'python train.py'\n",
    "* awk '{print $1}'：获取进程的pid\n",
    "* xargs kill：杀掉进程，根据需要可能要写成xargs kill -9强制杀掉进程\n",
    "在执行这句命令之前，建议先打印确认一下是否会误杀其它进程\n",
    "\n",
    "`ps x | grep <cmdline> | ps x`"
   ]
  },
  {
   "cell_type": "markdown",
   "metadata": {},
   "source": [
    "`sampler模块`，用来对数据进行采样\n",
    "\n",
    "* `RandomSampler`，当dataloader的shuffle参数为True时，系统会自动调用这个采样器，实现打乱数据。默认的是采用SequentialSampler，它会按顺序一个一个进行采样。\n",
    "* `WeightedRandomSampler`，它会根据每个样本的**权重**选取数据，在样本比例不均衡的问题中，可用它来进行**重采样**。\n",
    "\n",
    "构建`WeightedRandomSampler`时需提供两个参数：\n",
    "* 每个样本的权重`weights`、\n",
    "* 共选取的样本总数`num_samples`，\n",
    "* 以及一个可选参数replacement。\n",
    "\n",
    "权重越大的样本被选中的概率越大，待选取的样本数目一般小于全部的样本数目。replacement用于指定是否可以重复选取某一个样本，默认为True，即允许在一个epoch中重复采样某一个数据。如果设为False，则当某一类的样本被全部选取完，但其样本数目仍未达到num_samples时，sampler将不会再从该类中选择数据，此时可能导致weights参数失效。"
   ]
  },
  {
   "cell_type": "code",
   "execution_count": 36,
   "metadata": {},
   "outputs": [
    {
     "data": {
      "text/plain": [
       "[2, 2, 1, 2, 2, 1, 1, 2, 1, 1]"
      ]
     },
     "execution_count": 36,
     "metadata": {},
     "output_type": "execute_result"
    }
   ],
   "source": [
    "dataset = DogCat('data/dogcat/', transforms=transform)\n",
    "\n",
    "# 狗的图片被取出的概率是猫的概率的两倍\n",
    "# 两类图片被取出的概率与weights的绝对大小无关，只和比值有关\n",
    "weights = [2 if label == 1 else 1 for data, label in dataset]\n",
    "weights"
   ]
  },
  {
   "cell_type": "code",
   "execution_count": 47,
   "metadata": {},
   "outputs": [
    {
     "name": "stdout",
     "output_type": "stream",
     "text": [
      "[1, 1, 0, 0, 1]\n",
      "[1, 1, 1, 0, 1]\n",
      "[0, 1]\n"
     ]
    }
   ],
   "source": [
    "from torch.utils.data.sampler import WeightedRandomSampler\n",
    "sampler = WeightedRandomSampler(weights, \n",
    "                               num_samples=12,\n",
    "                               replacement=True)\n",
    "dataloader = DataLoader(dataset, \n",
    "                       batch_size=5,\n",
    "                       sampler=sampler)\n",
    "for datas, labels in dataloader:\n",
    "    print(labels.tolist())"
   ]
  },
  {
   "cell_type": "markdown",
   "metadata": {},
   "source": [
    "果指定了sampler，**shuffle将不再生效**，并且`sampler.num_samples`会**覆盖dataset的实际大小**，即一个epoch返回的图片总数取决于`sampler.num_samples`。"
   ]
  },
  {
   "cell_type": "markdown",
   "metadata": {},
   "source": [
    "## 5.2 计算机视觉工具包：torchvision"
   ]
  },
  {
   "cell_type": "markdown",
   "metadata": {},
   "source": [
    "torchvision主要包含三部分：\n",
    "\n",
    "* models：提供深度学习中各种经典网络的**网络结构**以及**预训练好的模型**，包括AlexNet、VGG系列、ResNet系列、Inception系列等。\n",
    "* datasets： 提供常用的**数据集**加载，设计上都是继承`torhc.utils.data.Dataset`，主要包括MNIST、CIFAR10/100、ImageNet、COCO等。\n",
    "* transforms：提供常用的**数据预处理**操作，主要包括对Tensor以及PIL Image对象的操作。"
   ]
  },
  {
   "cell_type": "code",
   "execution_count": 48,
   "metadata": {
    "scrolled": true
   },
   "outputs": [
    {
     "name": "stderr",
     "output_type": "stream",
     "text": [
      "/home/gaoshuai/anaconda3/envs/pytorch/lib/python3.6/site-packages/torchvision/models/squeezenet.py:94: UserWarning: nn.init.kaiming_uniform is now deprecated in favor of nn.init.kaiming_uniform_.\n",
      "  init.kaiming_uniform(m.weight.data)\n",
      "/home/gaoshuai/anaconda3/envs/pytorch/lib/python3.6/site-packages/torchvision/models/squeezenet.py:92: UserWarning: nn.init.normal is now deprecated in favor of nn.init.normal_.\n",
      "  init.normal(m.weight.data, mean=0.0, std=0.01)\n",
      "Downloading: \"https://download.pytorch.org/models/squeezenet1_1-f364aa15.pth\" to /home/gaoshuai/.torch/models/squeezenet1_1-f364aa15.pth\n",
      "100.0%\n"
     ]
    }
   ],
   "source": [
    "from torchvision import models\n",
    "from torch import nn\n",
    "# 加载预训练好的模型，如果不存在会进行下载\n",
    "# 预训练好的模型保存在 ~/.torch/models/下面\n",
    "resnet34 = models.squeezenet1_1(pretrained=True, num_classes=1000)\n",
    "\n",
    "# 修改最后的全连接层为10分类问题（默认是ImageNet上的1000分类）\n",
    "resnet34.fc = nn.Linear(512, 10)"
   ]
  },
  {
   "cell_type": "code",
   "execution_count": 58,
   "metadata": {
    "scrolled": true
   },
   "outputs": [
    {
     "name": "stdout",
     "output_type": "stream",
     "text": [
      "Downloading http://yann.lecun.com/exdb/mnist/train-images-idx3-ubyte.gz\n",
      "Downloading http://yann.lecun.com/exdb/mnist/train-labels-idx1-ubyte.gz\n",
      "Downloading http://yann.lecun.com/exdb/mnist/t10k-images-idx3-ubyte.gz\n",
      "Downloading http://yann.lecun.com/exdb/mnist/t10k-labels-idx1-ubyte.gz\n",
      "Processing...\n",
      "Done!\n"
     ]
    }
   ],
   "source": [
    "from torchvision import datasets\n",
    "# 指定数据集路径为data，如果数据集不存在则进行下载\n",
    "# 通过train=False获取测试集\n",
    "dataset = datasets.MNIST('../data/', download=True, train=False, transform=transform)"
   ]
  },
  {
   "cell_type": "markdown",
   "metadata": {},
   "source": [
    "转换分为两步，\n",
    "* 第一步：构建转换操作，例如`transf = transforms.Normalize(mean=x, std=y)`，\n",
    "* 第二步：执行转换操作，例如`output = transf(input)`。\n",
    "\n",
    "另外还可将**多个**处理操作用`Compose`**拼接**起来，形成一个处理转换流程。"
   ]
  },
  {
   "cell_type": "code",
   "execution_count": 54,
   "metadata": {},
   "outputs": [
    {
     "data": {
      "image/png": "[encoded data removed]",
      "text/plain": [
       "<PIL.Image.Image image mode=RGB size=64x64 at 0x7FD3D60BB978>"
      ]
     },
     "execution_count": 54,
     "metadata": {},
     "output_type": "execute_result"
    }
   ],
   "source": [
    "from torchvision import transforms\n",
    "to_pil = transforms.ToPILImage()\n",
    "to_pil(t.randn(3, 64, 64))"
   ]
  },
  {
   "cell_type": "markdown",
   "metadata": {},
   "source": [
    "torchvision还提供了两个常用的函数。\n",
    "\n",
    "一个是`make_grid`，它能将多张图片拼接成一个网格中；\n",
    "\n",
    "另一个是`save_img`，它能将Tensor保存成图片。"
   ]
  },
  {
   "cell_type": "code",
   "execution_count": 65,
   "metadata": {},
   "outputs": [],
   "source": [
    "dataloader = DataLoader(dataset, shuffle=True, batch_size=16)\n",
    "from torchvision.utils import make_grid, save_image\n",
    "dataiter = iter(dataloader)\n",
    "img = make_grid(next(dataiter)[0], 4)   # 拼成4*4网格图片，且会转成３通道\n",
    "# to_img(img)"
   ]
  },
  {
   "cell_type": "code",
   "execution_count": 66,
   "metadata": {},
   "outputs": [],
   "source": [
    "# save_image(img, 'a.png')\n",
    "# Image.open('a.png')"
   ]
  },
  {
   "cell_type": "markdown",
   "metadata": {},
   "source": [
    "## 5.3 可视化工具"
   ]
  },
  {
   "cell_type": "markdown",
   "metadata": {},
   "source": [
    "### 5.3.1 Tensorboard"
   ]
  },
  {
   "cell_type": "markdown",
   "metadata": {},
   "source": [
    "Tensorboard能够展现你的TensorFlow网络计算图，绘制图像生成的定量指标图以及附加数据。"
   ]
  },
  {
   "cell_type": "markdown",
   "metadata": {},
   "source": [
    "### 5.3.2 Visdom"
   ]
  },
  {
   "cell_type": "markdown",
   "metadata": {},
   "source": [
    "Visdom中有两个重要概念：\n",
    "\n",
    "* env：**环境**。不同环境的可视化结果相互隔离，互不影响，在使用时如果不指定env，默认使用main。不同用户、不同程序一般使用不同的env。\n",
    "* pane：**窗格**。窗格可用于可视化图像、数值或打印文本等，其可以拖动、缩放、保存和关闭。一个程序中可使用同一个env中的不同pane，每个pane可视化或记录某一信息。\n",
    "\n",
    "通过`python -m visdom.server`命令启动visdom服务, 默认绑定8097端口"
   ]
  },
  {
   "cell_type": "code",
   "execution_count": null,
   "metadata": {},
   "outputs": [],
   "source": [
    "%%sh\n",
    "# 启动visdom服务器\n",
    "# nohup python -m visdom.server &"
   ]
  },
  {
   "cell_type": "code",
   "execution_count": 1,
   "metadata": {},
   "outputs": [],
   "source": [
    "import torch as t"
   ]
  },
  {
   "cell_type": "code",
   "execution_count": 5,
   "metadata": {},
   "outputs": [
    {
     "name": "stderr",
     "output_type": "stream",
     "text": [
      "WARNING:root:Setting up a new session...\n",
      "WARNING:visdom:Without the incoming socket you cannot receive events from the server or register event handlers to your Visdom client.\n"
     ]
    },
    {
     "data": {
      "text/plain": [
       "'sinx'"
      ]
     },
     "execution_count": 5,
     "metadata": {},
     "output_type": "execute_result"
    }
   ],
   "source": [
    "import visdom\n",
    "\n",
    "# 新建一个连接客户端\n",
    "# 指定env = u'test1'，默认端口为8097，host是‘localhost'\n",
    "vis = visdom.Visdom(env=u'test1', use_incoming_socket=False)\n",
    "\n",
    "x = t.arange(1, 30, 0.01)\n",
    "y = t.sin(x)\n",
    "vis.line(X=x, Y=y, win='sinx', opts={'title': 'y=sin(x)'})"
   ]
  },
  {
   "cell_type": "markdown",
   "metadata": {},
   "source": [
    "将在 `http://127.0.0.1:8097/`看到可视化结果"
   ]
  },
  {
   "cell_type": "markdown",
   "metadata": {},
   "source": [
    "* `vis = visdom.Visdom(env=u'test1')`，用于构建一个客户端，客户端除指定env之外，还可以指定host、port等参数。\n",
    "* vis作为一个客户端对象，可以使用常见的画图函数，包括：\n",
    "  * line：类似Matlab中的plot操作，用于记录某些标量的变化，如损失、准确率等\n",
    "  * image：可视化图片，可以是输入的图片，也可以是GAN生成的图片，还可以是卷积核的信息\n",
    "  * text：用于记录日志等文字信息，支持html格式\n",
    "  * histgram：可视化分布，主要是查看数据、参数的分布\n",
    "  * scatter：绘制散点图\n",
    "  * bar：绘制柱状图\n",
    "  * pie：绘制饼状图\n",
    "  \n",
    "\n",
    "更多操作可参考visdom的github主页"
   ]
  },
  {
   "cell_type": "markdown",
   "metadata": {},
   "source": [
    "Visdom同时支持`PyTorch`的`tensor`和`Numpy`的`ndarray`两种数据结构，\n",
    "\n",
    "但**不支持**`Python`的`int`、`float`等类型，因此每次传入时都需先将数据转成ndarray或tensor。"
   ]
  },
  {
   "cell_type": "markdown",
   "metadata": {},
   "source": [
    "有两个参数是绝大多数操作都具备的：\n",
    "\n",
    "* win：用于**指定pane的名字**，如果不指定，visdom将自动分配一个新的pane。如果两次操作指定的win名字一样，新的操作将覆盖当前pane的内容，因此建议每次操作都重新指定win。\n",
    "* opts：选项，接收一个字典，常见的option包括**title、xlabel、ylabel、width**等，主要用于设置pane的显示格式。"
   ]
  },
  {
   "cell_type": "markdown",
   "metadata": {},
   "source": [
    "之前提到过，每次操作都会覆盖之前的数值，但往往我们在训练网络的过程中需不断更新数值，如损失值等，这时就需要指定参数`update='append'`来避免覆盖之前的数值。而除了使用update参数以外，还可以使用`vis.updateTrace`方法来更新图，但`updateTrace`不仅能在指定pane上新增一个和已有数据相互独立的Trace，还能像`update='append'`那样在同一条trace上追加数据。"
   ]
  },
  {
   "cell_type": "code",
   "execution_count": 10,
   "metadata": {},
   "outputs": [
    {
     "data": {
      "text/plain": [
       "'polynomial'"
      ]
     },
     "execution_count": 10,
     "metadata": {},
     "output_type": "execute_result"
    }
   ],
   "source": [
    "# append 追加数据\n",
    "for ii in range(0, 10):\n",
    "    # y = x\n",
    "    x = t.Tensor([ii])\n",
    "    y = x\n",
    "    vis.line(X=x, Y=y, win='polynomial', update='append' if ii>0 else None)\n",
    "\n",
    "# updateTrace 新增一条线\n",
    "x = t.arange(0, 9.1, 0.1)\n",
    "y = (x ** 2) / 9\n",
    "vis.line(X=x, Y=y, win='polynomial', name='this is a new Trace', update='new')"
   ]
  },
  {
   "cell_type": "markdown",
   "metadata": {},
   "source": [
    "image的画图功能可分为如下两类：\n",
    "- `image`接收一个二维或三维向量，$H\\times W$或$3 \\times H\\times W$，前者是黑白图像，后者是彩色图像。\n",
    "- `images`接收一个四维向量$N\\times C\\times H\\times W$，$C$可以是1或3，分别代表黑白和彩色图像。可实现类似torchvision中make_grid的功能，将多张图片拼接在一起。`images`也可以接收一个二维或三维的向量，此时它所实现的功能与image一致。"
   ]
  },
  {
   "cell_type": "code",
   "execution_count": 12,
   "metadata": {},
   "outputs": [
    {
     "data": {
      "text/plain": [
       "'random3'"
      ]
     },
     "execution_count": 12,
     "metadata": {},
     "output_type": "execute_result"
    }
   ],
   "source": [
    "# 可视化一个随机的黑白图片\n",
    "vis.image(t.randn(64, 64).numpy())\n",
    "\n",
    "# 随机可视化一张彩色图片\n",
    "vis.image(t.randn(3, 64, 64).numpy(), win='random2')\n",
    "\n",
    "# 可视化36张随机的彩色图片，每一行6张\n",
    "vis.images(t.randn(36, 3, 64, 64).numpy(),nrow=6, win='random3',\n",
    "           opts={'title':'random_images'})"
   ]
  },
  {
   "cell_type": "markdown",
   "metadata": {},
   "source": [
    "`vis.text`用于**可视化文本**，支持所有的html标签，同时也遵循着html的语法标准。例如，换行需使用`<br>`标签，`\\r\\n`无法实现换行。下面举例说明。"
   ]
  },
  {
   "cell_type": "code",
   "execution_count": 13,
   "metadata": {},
   "outputs": [
    {
     "data": {
      "text/plain": [
       "'visdom'"
      ]
     },
     "execution_count": 13,
     "metadata": {},
     "output_type": "execute_result"
    }
   ],
   "source": [
    "vis.text(u'''<h1>Hello Visdom</h1><br>Visdom是Facebook专门为<b>PyTorch</b>开发的一个可视化工具，\n",
    "         在内部使用了很久，在2017年3月份开源了它。\n",
    "         \n",
    "         Visdom十分轻量级，但是却有十分强大的功能，支持几乎所有的科学运算可视化任务''',\n",
    "         win='visdom',\n",
    "         opts={'title': u'visdom简介' }\n",
    "        )"
   ]
  },
  {
   "cell_type": "markdown",
   "metadata": {},
   "source": [
    "## 5.4 使用GPU加速：cuda"
   ]
  },
  {
   "cell_type": "markdown",
   "metadata": {},
   "source": [
    "在PyTorch中以下数据结构分为CPU和GPU两个版本：\n",
    "- Tensor\n",
    "- nn.Module（包括常用的layer、loss function，以及容器Sequential等）\n",
    "\n",
    "它们都带有一个`.cuda`方法，调用此方法即可将其转为对应的GPU对象。注意，`tensor.cuda`会返回一个新对象，这个新对象的数据已转移至GPU，而之前的tensor还在原来的设备上（CPU）。而`module.cuda`则会将所有的数据都迁移至GPU，并返回自己。所以`module = module.cuda()`和`module.cuda()`所起的作用一致。"
   ]
  },
  {
   "cell_type": "markdown",
   "metadata": {},
   "source": [
    "以下代码需要有两块 GPU"
   ]
  },
  {
   "cell_type": "code",
   "execution_count": 15,
   "metadata": {},
   "outputs": [
    {
     "data": {
      "text/plain": [
       "False"
      ]
     },
     "execution_count": 15,
     "metadata": {},
     "output_type": "execute_result"
    }
   ],
   "source": [
    "tensor = t.Tensor(3, 4)\n",
    "# 返回一个新的tensor，保存在第1块GPU上，但原来的tensor并没有改变\n",
    "tensor.cuda(0)\n",
    "tensor.is_cuda  # False"
   ]
  },
  {
   "cell_type": "code",
   "execution_count": 16,
   "metadata": {},
   "outputs": [
    {
     "data": {
      "text/plain": [
       "True"
      ]
     },
     "execution_count": 16,
     "metadata": {},
     "output_type": "execute_result"
    }
   ],
   "source": [
    "# 不指定所使用的GPU设备，将默认使用第1块GPU\n",
    "tensor = tensor.cuda()\n",
    "tensor.is_cuda  # True"
   ]
  },
  {
   "cell_type": "code",
   "execution_count": 19,
   "metadata": {},
   "outputs": [
    {
     "data": {
      "text/plain": [
       "True"
      ]
     },
     "execution_count": 19,
     "metadata": {},
     "output_type": "execute_result"
    }
   ],
   "source": [
    "from torch import nn\n",
    "module = nn.Linear(3, 4)\n",
    "module.cuda(device=0)\n",
    "module.weight.is_cuda  # True\n",
    "# CUDA error: invalid device ordinal"
   ]
  },
  {
   "cell_type": "code",
   "execution_count": 20,
   "metadata": {},
   "outputs": [],
   "source": [
    "class VeryBigModule(nn.Module):\n",
    "    def __init__(self):\n",
    "        super(VeryBigModule, self).__init__()\n",
    "        self.GiantParameter1 = t.nn.Parameter(t.randn(100000, 20000)).cuda(0)\n",
    "        self.GiantParameter2 = t.nn.Parameter(t.randn(20000, 100000)).cuda(1)\n",
    "    \n",
    "    def forward(self, x):\n",
    "        x = self.GiantParameter1.mm(x.cuda(0))\n",
    "        x = self.GiantParameter2.mm(x.cuda(1))\n",
    "        return x"
   ]
  },
  {
   "cell_type": "markdown",
   "metadata": {},
   "source": [
    "关于使用GPU的一些建议：\n",
    "- GPU运算很快，但对于很小的运算量来说，并不能体现出它的优势，因此对于一些简单的操作可直接利用CPU完成\n",
    "- 数据在CPU和GPU之间，以及GPU与GPU之间的传递会比较耗时，应当尽量避免\n",
    "- 在进行低精度的计算时，可以考虑`HalfTensor`，它相比于`FloatTensor`能节省一半的显存，但需千万注意数值溢出的情况。"
   ]
  },
  {
   "cell_type": "markdown",
   "metadata": {},
   "source": [
    "另外这里需要专门提一下，大部分的损失函数也都属于`nn.Moudle`，但在使用GPU时，很多时候我们都忘记使用它的`.cuda`方法，这在大多数情况下不会报错，因为损失函数本身没有可学习的参数（learnable parameters）。但在某些情况下会出现问题，为了保险起见同时也为了代码更规范，应记得调用`criterion.cuda`。下面举例说明。"
   ]
  },
  {
   "cell_type": "code",
   "execution_count": 22,
   "metadata": {},
   "outputs": [
    {
     "data": {
      "text/plain": [
       "OrderedDict([('weight', tensor([1., 3.], device='cuda:0'))])"
      ]
     },
     "execution_count": 22,
     "metadata": {},
     "output_type": "execute_result"
    }
   ],
   "source": [
    "# 交叉熵损失函数，带权重\n",
    "criterion = t.nn.CrossEntropyLoss(weight=t.Tensor([1, 3]))\n",
    "input_ = t.randn(4, 2).cuda()\n",
    "target = t.Tensor([1, 0, 0, 1]).long().cuda()\n",
    "\n",
    "# 下面这行会报错，因weight未被转移至GPU\n",
    "# loss = criterion(input_, target)\n",
    "\n",
    "# 这行则不会报错\n",
    "criterion.cuda()\n",
    "loss = criterion(input_, target)\n",
    "\n",
    "criterion._buffers"
   ]
  },
  {
   "cell_type": "markdown",
   "metadata": {},
   "source": [
    "而除了调用对象的`.cuda`方法之外，还可以使用`torch.cuda.device`，来指定默认使用哪一块GPU，或使用`torch.set_default_tensor_type`使程序默认使用GPU，不需要手动调用cuda。"
   ]
  },
  {
   "cell_type": "code",
   "execution_count": null,
   "metadata": {},
   "outputs": [],
   "source": [
    "# 如果未指定使用哪块GPU，默认使用GPU 0\n",
    "x = t.cuda.FloatTensor(2, 3)\n",
    "# x.get_device() == 0\n",
    "y = t.FloatTensor(2, 3).cuda()\n",
    "# y.get_device() == 0\n",
    "\n",
    "# 指定默认使用GPU 1\n",
    "with t.cuda.device(1):    \n",
    "    # 在GPU 1上构建tensor\n",
    "    a = t.cuda.FloatTensor(2, 3)\n",
    "\n",
    "    # 将tensor转移至GPU 1\n",
    "    b = t.FloatTensor(2, 3).cuda()\n",
    "    print(a.get_device() == b.get_device() == 1 )\n",
    "\n",
    "    c = a + b\n",
    "    print(c.get_device() == 1)\n",
    "\n",
    "    z = x + y\n",
    "    print(z.get_device() == 0)\n",
    "\n",
    "    # 手动指定使用GPU 0\n",
    "    d = t.randn(2, 3).cuda(0)\n",
    "    print(d.get_device() == 2)"
   ]
  },
  {
   "cell_type": "code",
   "execution_count": null,
   "metadata": {},
   "outputs": [],
   "source": [
    "# 指定默认tensor的类型为GPU上的FloatTensor\n",
    "t.set_default_tensor_type('torch.cuda.FloatTensor')\n",
    "a = t.ones(2, 3)\n",
    "a.is_cuda"
   ]
  },
  {
   "cell_type": "markdown",
   "metadata": {},
   "source": [
    "如果服务器具有多个GPU，`tensor.cuda()`方法会将tensor保存到第一块GPU上，等价于`tensor.cuda(0)`。此时如果想使用第二块GPU，需手动指定`tensor.cuda(1)`，而这需要修改大量代码，很是繁琐。这里有两种替代方法：\n",
    "\n",
    "- 一种是先调用`t.cuda.set_device(1)`指定使用第二块GPU，后续的`.cuda()`都无需更改，切换GPU只需修改这一行代码。\n",
    "- 更推荐的方法是设置环境变量`CUDA_VISIBLE_DEVICES`，例如当`export CUDA_VISIBLE_DEVICE=1`（下标是从0开始，1代表第二块GPU），只使用第二块物理GPU，但在程序中这块GPU会被看成是第一块逻辑GPU，因此此时调用`tensor.cuda()`会将Tensor转移至第二块物理GPU。`CUDA_VISIBLE_DEVICES`还可以指定多个GPU，如`export CUDA_VISIBLE_DEVICES=0,2,3`，那么第一、三、四块物理GPU会被映射成第一、二、三块逻辑GPU，`tensor.cuda(1)`会将Tensor转移到第三块物理GPU上。\n",
    "\n",
    "设置`CUDA_VISIBLE_DEVICES`有两种方法，一种是在命令行中`CUDA_VISIBLE_DEVICES=0,1 python main.py`，一种是在程序中`import os;os.environ[\"CUDA_VISIBLE_DEVICES\"] = \"2\"`。如果使用IPython或者Jupyter notebook，还可以使用`%env CUDA_VISIBLE_DEVICES=1,2`来设置环境变量。"
   ]
  },
  {
   "cell_type": "markdown",
   "metadata": {},
   "source": [
    "### 5.4.1 单机多卡并行\n",
    "要实现模型单机多卡十分容易，直接使用 `new_module = nn.DataParallel(module, device_ids)`, 默认会把模型分布到所有的卡上。多卡并行的机制如下：\n",
    "- 将模型（module）复制到每一张卡上\n",
    "- 将形状为（N,C,H,W）的输入均等分为 n份（假设有n张卡），每一份形状是（N/n, C,H,W）,然后在每张卡前向传播，反向传播，**梯度求平均**。要求batch-size 大于等于卡的个数(N>=n)\n",
    "\n",
    "在绝大多数情况下，new_module的用法和module一致，除了极其特殊的情况下（RNN中的PackedSequence）。另外想要获取原始的单卡模型，需要通过`new_module.module`访问。"
   ]
  },
  {
   "cell_type": "markdown",
   "metadata": {},
   "source": [
    "## 5.5 持久化"
   ]
  },
  {
   "cell_type": "markdown",
   "metadata": {},
   "source": [
    "在PyTorch中，以下对象可以持久化到硬盘，并能通过相应的方法加载到内存中：\n",
    "- Tensor\n",
    "- Variable\n",
    "- nn.Module\n",
    "- Optimizer\n",
    "\n",
    "本质上上述这些信息最终都是保存成Tensor。"
   ]
  },
  {
   "cell_type": "code",
   "execution_count": null,
   "metadata": {},
   "outputs": [],
   "source": [
    "a = t.Tensor(3, 4)\n",
    "if t.cuda.is_available():\n",
    "        a = a.cuda(1) # 把a转为GPU1上的tensor,\n",
    "        t.save(a,'a.pth')\n",
    "        \n",
    "        # 加载为b, 存储于GPU1上(因为保存时tensor就在GPU1上)\n",
    "        b = t.load('a.pth')\n",
    "        \n",
    "        # 加载为c, 存储于CPU\n",
    "        c = t.load('a.pth', map_location=lambda storage, loc: storage)\n",
    "        \n",
    "        # 加载为d, 存储于GPU0上\n",
    "        d = t.load('a.pth', map_location={'cuda:1':'cuda:0'})"
   ]
  },
  {
   "cell_type": "code",
   "execution_count": null,
   "metadata": {},
   "outputs": [],
   "source": [
    "t.set_default_tensor_type('torch.FloatTensor')\n",
    "from torchvision.models import SqueezeNet\n",
    "model = SqueezeNet()\n",
    "# module的state_dict是一个字典\n",
    "model.state_dict().keys()"
   ]
  },
  {
   "cell_type": "code",
   "execution_count": null,
   "metadata": {},
   "outputs": [],
   "source": [
    "# Module对象的保存与加载\n",
    "t.save(model.state_dict(), 'squeezenet.pth')\n",
    "model.load_state_dict(t.load('squeezenet.pth'))"
   ]
  },
  {
   "cell_type": "code",
   "execution_count": null,
   "metadata": {},
   "outputs": [],
   "source": [
    "optimizer = t.optim.Adam(model.parameters(), lr=0.1)"
   ]
  },
  {
   "cell_type": "code",
   "execution_count": null,
   "metadata": {},
   "outputs": [],
   "source": [
    "t.save(optimizer.state_dict(), 'optimizer.pth')\n",
    "optimizer.load_state_dict(t.load('optimizer.pth'))"
   ]
  },
  {
   "cell_type": "code",
   "execution_count": null,
   "metadata": {},
   "outputs": [],
   "source": [
    "all_data = dict(\n",
    "    optimizer = optimizer.state_dict(),\n",
    "    model = model.state_dict(),\n",
    "    info = u'模型和优化器的所有参数'\n",
    ")\n",
    "t.save(all_data, 'all.pth')"
   ]
  },
  {
   "cell_type": "code",
   "execution_count": null,
   "metadata": {},
   "outputs": [],
   "source": [
    "all_data = t.load('all.pth')\n",
    "all_data.keys()"
   ]
  }
 ],
 "metadata": {
  "kernelspec": {
   "display_name": "Python 3",
   "language": "python",
   "name": "python3"
  },
  "language_info": {
   "codemirror_mode": {
    "name": "ipython",
    "version": 3
   },
   "file_extension": ".py",
   "mimetype": "text/x-python",
   "name": "python",
   "nbconvert_exporter": "python",
   "pygments_lexer": "ipython3",
   "version": "3.6.8"
  }
 },
 "nbformat": 4,
 "nbformat_minor": 2
}
